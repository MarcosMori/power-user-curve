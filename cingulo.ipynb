{
  "nbformat": 4,
  "nbformat_minor": 0,
  "metadata": {
    "colab": {
      "name": "cingulo.ipynb",
      "provenance": [],
      "collapsed_sections": [],
      "authorship_tag": "ABX9TyNFLtzzdul0HvjPHYkrKVK2",
      "include_colab_link": true
    },
    "kernelspec": {
      "name": "python3",
      "display_name": "Python 3"
    },
    "language_info": {
      "name": "python"
    }
  },
  "cells": [
    {
      "cell_type": "markdown",
      "metadata": {
        "id": "view-in-github",
        "colab_type": "text"
      },
      "source": [
        "<a href=\"https://colab.research.google.com/github/MarcosMori/power-user-curve/blob/main/cingulo.ipynb\" target=\"_parent\"><img src=\"https://colab.research.google.com/assets/colab-badge.svg\" alt=\"Open In Colab\"/></a>"
      ]
    },
    {
      "cell_type": "markdown",
      "metadata": {
        "id": "3AuP72P6S1Gu"
      },
      "source": [
        "**Cíngulo:**\n",
        "\n",
        "\n",
        "**Desafio: Analista de Dados, Business Intelligence ou Ciência de Dados.**\n",
        "\n",
        "\n",
        "**Problema Proposto:**\n",
        "\n",
        "\n",
        "O Cíngulo quer entender, de sua base de usuários “premium” (pagantes), qual é o seu comportamento de uso ao longo do mês: quantos usuários (%) utilizam o app 1 vez ao mês, 2 vezes ao mês, ... até 30 (ou 31, ou 28) dias ao mês. Trata-se da chamada “power user curve[0]”, um indicador utilizado por várias empresas para entender o engajamento de seus usuários/clientes.\n",
        "\n",
        "\n",
        "Os eventos de utilização do app Cíngulo estão mapeados e queremos ter a “power user curve” dos nossos usuários. Para fins deste desafio, foi gerada uma fonte de dados de teste que está disponível no endereço https://static.cingulo.com/bi/user_activities.json\n",
        "\n",
        "\n",
        "Esse arquivo JSON contém a lista de usuários do app Cíngulo, contendo o ID e uma lista que representa o histórico de utilização do app (activities).\n",
        "A lista (activities) contém 365 registros, que representa os dias do ano (primeiro item 01/01, último item 31/12). Cada item da lista pode ter o valor “1” ou “0” (1: o usuário utilizou o app; 0: o usuário não utilizou o app).\n",
        "\n",
        "\n",
        "Para este desafio, queremos ver os gráficos power user curve para os meses:  fevereiro, março e abril.\n",
        "\n",
        "\n",
        "Requisitos básicos:\n",
        "\n",
        "\n",
        "- Utilizar Python 3 (qualquer versão do Python 3)\n",
        "- Instruções de como baixar e rodar o script local\n",
        "- Criar um repositório no GitHub com o código do teste\n",
        "\n",
        "\n",
        "Diferenciais:\n",
        "\n",
        "\n",
        "- Boa documentação/instruções\n",
        "- Clareza do código\n",
        "- Ser fácil de rodar\n",
        "- Estar disponível na internet o resultado do teste (deploy no heroku ou algo do gênero, o\n",
        "que achar mais fácil)\n",
        "- Exportar tabela para CSV\n",
        "- Interpretação dos resultados, em termos de negócio e engajamento do usuário (por escrito, junto com as instruções sobre o projeto)\n",
        "\n",
        "Ao término do teste, enviar o link do repositório do GitHub do projeto para: daniel@cingulo.com."
      ]
    },
    {
      "cell_type": "markdown",
      "metadata": {
        "id": "dnECP8NmgiYs"
      },
      "source": [
        "**Instrução para rodar**\n",
        "\n",
        "Para rodar todo o código de uma vez, pressione *CTRL + F9* ou vá até o menu de runtime e selecione \"Run all\""
      ]
    },
    {
      "cell_type": "code",
      "metadata": {
        "id": "uU9auH2PTa0Y"
      },
      "source": [
        "#Importando as bibliotecas\n",
        "import requests\n",
        "import json\n",
        "import numpy as np\n",
        "import matplotlib.pyplot as plt"
      ],
      "execution_count": null,
      "outputs": []
    },
    {
      "cell_type": "markdown",
      "metadata": {
        "id": "y6qBzgD2TmAu"
      },
      "source": [
        "*Função que irá ler o dataset*"
      ]
    },
    {
      "cell_type": "code",
      "metadata": {
        "id": "Afq5MzbNTtOj"
      },
      "source": [
        "def lerArquivo():\n",
        "  resultado = requests.get('https://static.cingulo.com/bi/user_activities.json')\n",
        "  listaClientes = resultado.json()\n",
        "  return listaClientes"
      ],
      "execution_count": null,
      "outputs": []
    },
    {
      "cell_type": "markdown",
      "metadata": {
        "id": "ZL_nyRFJTwcG"
      },
      "source": [
        "*Função para tratar lista de dados*\n",
        "\n",
        "A função abaixo irá receber a lista de dados bruta e separar a quantidade de acesso por mês de cada usuário.\n",
        "\n",
        "**obs. para ganho de performance, comentei os meses que não foram solicitados**"
      ]
    },
    {
      "cell_type": "code",
      "metadata": {
        "id": "Wv9QtMFeTvtm"
      },
      "source": [
        "def refinaListaBruta(listaClientes):\n",
        "  lista = []\n",
        "  for clientes in listaClientes:\n",
        "    conexoesDia = clientes.get('activities')\n",
        "    cliente = {'id': clientes.get('id'),\n",
        "               #'jan': sum(conexoesDia[0:31]),\n",
        "               'fev': sum(conexoesDia[31:59]),\n",
        "               'mar': sum(conexoesDia[59:90]),\n",
        "               'abr': sum(conexoesDia[90:120]),\n",
        "               #'may': sum(conexoesDia[120:151]),\n",
        "               #'jun': sum(conexoesDia[151:181]),\n",
        "               #'jul': sum(conexoesDia[181:212]),\n",
        "               #'agu': sum(conexoesDia[212:243]),\n",
        "               #'sec': sum(conexoesDia[243:273]),\n",
        "               #'oct': sum(conexoesDia[273:304]),\n",
        "               #'nov': sum(conexoesDia[304:334]),\n",
        "               #'dec': sum(conexoesDia[334:])\n",
        "               }\n",
        "    lista.append(cliente)\n",
        "  return lista\n"
      ],
      "execution_count": null,
      "outputs": []
    },
    {
      "cell_type": "markdown",
      "metadata": {
        "id": "XRXnwe7sURQX"
      },
      "source": [
        "*Função para contabalizar quantidade de usuários que acessaram x vezes nos meses de Fevereiro, Março e Abril*"
      ]
    },
    {
      "cell_type": "code",
      "metadata": {
        "id": "cuRPS7uuUQL8"
      },
      "source": [
        "def contabilizaMes(listaClientes):\n",
        "  listaMes = {\n",
        "              'fev': {0: 0, 1: 0, 2: 0, 3: 0, 4: 0, 5: 0, 6: 0, 7: 0, 8: 0, 9: 0, 10: 0, 11: 0, 12: 0, 13: 0, 14: 0, 15: 0, 16: 0, 17: 0, 18: 0, 19: 0, 20: 0, 21: 0, 22: 0, 23: 0, 24: 0, 25: 0, 26: 0, 27: 0, 28: 0},\n",
        "              'mar': {0: 0, 1: 0, 2: 0, 3: 0, 4: 0, 5: 0, 6: 0, 7: 0, 8: 0, 9: 0, 10: 0, 11: 0, 12: 0, 13: 0, 14: 0, 15: 0, 16: 0, 17: 0, 18: 0, 19: 0, 20: 0, 21: 0, 22: 0, 23: 0, 24: 0, 25: 0, 26: 0, 27: 0, 28: 0, 29: 0, 30: 0, 31: 0},\n",
        "              'abr': {0: 0, 1: 0, 2: 0, 3: 0, 4: 0, 5: 0, 6: 0, 7: 0, 8: 0, 9: 0, 10: 0, 11: 0, 12: 0, 13: 0, 14: 0, 15: 0, 16: 0, 17: 0, 18: 0, 19: 0, 20: 0, 21: 0, 22: 0, 23: 0, 24: 0, 25: 0, 26: 0, 27: 0, 28: 0, 29: 0, 30: 0}\n",
        "              }\n",
        "  for mes in listaMes.keys():\n",
        "    totalMes = 0\n",
        "    for cliente in listaClientes:\n",
        "      listaMes[mes][cliente[mes]] = listaMes[mes][cliente[mes]]+ 1\n",
        "      totalMes = totalMes + 1\n",
        "\n",
        "    for diasMes in listaMes[mes].keys():\n",
        "      listaMes[mes][diasMes] = listaMes[mes][diasMes]*100 / totalMes\n",
        "\n",
        "  return listaMes"
      ],
      "execution_count": null,
      "outputs": []
    },
    {
      "cell_type": "markdown",
      "metadata": {
        "id": "vqmaolfxUzhz"
      },
      "source": [
        "*A função abaixo recebe o dicionário de meses, com a quantidade de usuários que acessaram x dias nos meses*"
      ]
    },
    {
      "cell_type": "code",
      "metadata": {
        "id": "fmKGhrGrUtgD"
      },
      "source": [
        "def imprimirGrafico(listaMes, title):\n",
        "  width = 1.0\n",
        "  pos = np.arange(len(listaMes.keys()))\n",
        "  x = listaMes.keys()\n",
        "  y = listaMes.values()\n",
        "\n",
        "  plt.bar(x, y, width = 0.75, color = 'b')\n",
        "  plt.title(title, fontweight=\"bold\")\n",
        "  plt.ylabel('Quantidade de usuários(%)')\n",
        "  plt.xlabel('Quantidade de acessos')\n",
        "  plt.rcParams[\"figure.figsize\"] = (12, 9)\n",
        "\n",
        "  plt.show()"
      ],
      "execution_count": 168,
      "outputs": []
    },
    {
      "cell_type": "markdown",
      "metadata": {
        "id": "AHYg_PUVVK3Q"
      },
      "source": [
        "*Abaixo seguem as chamadas para o sistema funcionar corretamente e a impressão dos gráficos"
      ]
    },
    {
      "cell_type": "code",
      "metadata": {
        "colab": {
          "base_uri": "https://localhost:8080/",
          "height": 567
        },
        "id": "WQjMFAvoTgT9",
        "outputId": "cca6307d-2deb-43cc-84f4-06f9c4df3556"
      },
      "source": [
        "lista = lerArquivo()\n",
        "dicionarioTratado = refinaListaBruta(lista)\n",
        "listaMes = contabilizaMes(dicionarioTratado)\n",
        "\n",
        "imprimirGrafico(listaMes['fev'], 'Fevereiro')"
      ],
      "execution_count": 169,
      "outputs": [
        {
          "output_type": "display_data",
          "data": {
            "image/png": "[encoded data removed]",
            "text/plain": [
              "<Figure size 864x648 with 1 Axes>"
            ]
          },
          "metadata": {
            "tags": [],
            "needs_background": "light"
          }
        }
      ]
    },
    {
      "cell_type": "code",
      "metadata": {
        "colab": {
          "base_uri": "https://localhost:8080/",
          "height": 567
        },
        "id": "94jUn1I8VkZw",
        "outputId": "21cdaae2-6b47-4291-9f04-ece1ae19808a"
      },
      "source": [
        "imprimirGrafico(listaMes['mar'], 'Março')"
      ],
      "execution_count": 170,
      "outputs": [
        {
          "output_type": "display_data",
          "data": {
            "image/png": "[encoded data removed]",
            "text/plain": [
              "<Figure size 864x648 with 1 Axes>"
            ]
          },
          "metadata": {
            "tags": [],
            "needs_background": "light"
          }
        }
      ]
    },
    {
      "cell_type": "code",
      "metadata": {
        "colab": {
          "base_uri": "https://localhost:8080/",
          "height": 567
        },
        "id": "tVa-hsE2VYvI",
        "outputId": "3408c92c-f28a-474a-bc46-e03c4d3510d7"
      },
      "source": [
        "imprimirGrafico(listaMes['abr'], 'Abril')"
      ],
      "execution_count": 171,
      "outputs": [
        {
          "output_type": "display_data",
          "data": {
            "image/png": "[encoded data removed]",
            "text/plain": [
              "<Figure size 864x648 with 1 Axes>"
            ]
          },
          "metadata": {
            "tags": [],
            "needs_background": "light"
          }
        }
      ]
    }
  ]
}